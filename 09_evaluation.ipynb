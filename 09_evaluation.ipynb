{
 "cells": [
  {
   "cell_type": "code",
   "execution_count": 1,
   "metadata": {},
   "outputs": [
    {
     "name": "stdout",
     "output_type": "stream",
     "text": [
      "[t=10] New group created from split: 1\n",
      "Mini graphs rendered with canvas size: 800 x 600\n",
      "Global stats: ((1, 3), (4, 47), (0, 43))\n",
      "Using priority BFS ordering\n",
      "Global stats: ((1, 3), (4, 47), (0, 43))\n",
      "Using priority BFS ordering\n",
      "Using priority tunable BFS ordering with parameters: w=1.0, d=1.0, c=1.0\n",
      "Global stats: ((1, 3), (4, 47), (0, 43))\n",
      "Using priority tunable BFS ordering with parameters: w=1.0, d=-1.0, c=1.0\n",
      "Global stats: ((1, 3), (4, 47), (0, 43))\n"
     ]
    }
   ],
   "source": [
    "import ba_utils.interface as interface\n",
    "interface.start_gui()"
   ]
  },
  {
   "cell_type": "code",
   "execution_count": null,
   "metadata": {},
   "outputs": [],
   "source": []
  }
 ],
 "metadata": {
  "kernelspec": {
   "display_name": ".venv",
   "language": "python",
   "name": "python3"
  },
  "language_info": {
   "codemirror_mode": {
    "name": "ipython",
    "version": 3
   },
   "file_extension": ".py",
   "mimetype": "text/x-python",
   "name": "python",
   "nbconvert_exporter": "python",
   "pygments_lexer": "ipython3",
   "version": "3.13.2"
  }
 },
 "nbformat": 4,
 "nbformat_minor": 2
}
