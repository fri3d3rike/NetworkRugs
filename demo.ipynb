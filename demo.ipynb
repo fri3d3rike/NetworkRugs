{
 "cells": [
  {
   "cell_type": "markdown",
   "id": "b9650449",
   "metadata": {},
   "source": [
    "## Demo of NetworkRug Visualizer\n",
    "\n",
    "Bachelor Thesis Friederike\n"
   ]
  },
  {
   "cell_type": "code",
   "execution_count": 1,
   "id": "f243d521",
   "metadata": {},
   "outputs": [
    {
     "name": "stdout",
     "output_type": "stream",
     "text": [
      "[t=50] New group created from split: 1\n",
      "Mini graphs rendered with canvas size: 800 x 600\n",
      "Global stats: ((1, 1), (7, 93), (0, 84))\n",
      "Using priority BFS ordering\n",
      "Global stats: ((1, 1), (7, 93), (0, 84))\n",
      "Using priority BFS ordering\n",
      "Global stats: ((1, 1), (7, 93), (0, 84))\n",
      "Using priority BFS ordering\n",
      "Using DFS ordering\n"
     ]
    }
   ],
   "source": [
    "import ba_utils.interface as interface\n",
    "interface.start_gui()"
   ]
  }
 ],
 "metadata": {
  "kernelspec": {
   "display_name": ".venv",
   "language": "python",
   "name": "python3"
  },
  "language_info": {
   "codemirror_mode": {
    "name": "ipython",
    "version": 3
   },
   "file_extension": ".py",
   "mimetype": "text/x-python",
   "name": "python",
   "nbconvert_exporter": "python",
   "pygments_lexer": "ipython3",
   "version": "3.13.2"
  }
 },
 "nbformat": 4,
 "nbformat_minor": 5
}
