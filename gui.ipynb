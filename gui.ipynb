{
 "cells": [
  {
   "cell_type": "markdown",
   "metadata": {},
   "source": [
    "#### GUI Development"
   ]
  },
  {
   "cell_type": "code",
   "execution_count": null,
   "metadata": {},
   "outputs": [],
   "source": [
    "import ipywidgets as widgets\n",
    "from IPython.display import display\n",
    "import tkinter as tk\n",
    "\n",
    "from data.graph_data import *\n",
    "from ba_utils.visualization import draw_rug_from_graphs\n",
    "from ba_utils.orderings import get_priority_bfs_ordering\n"
   ]
  },
  {
   "cell_type": "code",
   "execution_count": null,
   "metadata": {},
   "outputs": [
    {
     "data": {
      "application/vnd.jupyter.widget-view+json": {
       "model_id": "97da9716cbea4a378fb200f7b25d6b6c",
       "version_major": 2,
       "version_minor": 0
      },
      "text/plain": [
       "FloatText(value=0.0)"
      ]
     },
     "metadata": {},
     "output_type": "display_data"
    },
    {
     "data": {
      "application/vnd.jupyter.widget-view+json": {
       "model_id": "51c62b097556442884c86d4c71154e58",
       "version_major": 2,
       "version_minor": 0
      },
      "text/plain": [
       "FloatSlider(value=0.0)"
      ]
     },
     "metadata": {},
     "output_type": "display_data"
    }
   ],
   "source": [
    "widgets.IntSlider()\n",
    "\n",
    "a = widgets.FloatText()\n",
    "b = widgets.FloatSlider()\n",
    "display(a,b)\n",
    "\n",
    "mylink = widgets.jslink((a, 'value'), (b, 'value'))"
   ]
  },
  {
   "cell_type": "code",
   "execution_count": null,
   "metadata": {},
   "outputs": [
    {
     "data": {
      "image/png": "[encoded data removed]",
      "text/plain": [
       "<Figure size 132x288 with 1 Axes>"
      ]
     },
     "metadata": {},
     "output_type": "display_data"
    }
   ],
   "source": [
    "def draw_networkrug(graphs, color_encoding='closeness_centrality', labels=False, pixel_size=6):\n",
    "    \"\"\"\n",
    "    Draws a single NetworkRug with a specific color encoding and pixel size.\n",
    "    Adjusts figure size dynamically to support scalability in node/time dimensions.\n",
    "    \"\"\"\n",
    "    ordering = get_priority_bfs_ordering(graphs)\n",
    "\n",
    "    fig = draw_rug_from_graphs(\n",
    "        graphs_data=graphs,\n",
    "        ordering=ordering,\n",
    "        color_encoding=color_encoding,\n",
    "        labels=labels,\n",
    "        pixel_size=pixel_size\n",
    "    )\n",
    "    return fig\n",
    "\n",
    "draw_networkrug(merge_graphs, color_encoding='closeness_centrality', labels=False, pixel_size=12)"
   ]
  },
  {
   "cell_type": "code",
   "execution_count": null,
   "metadata": {},
   "outputs": [],
   "source": [
    "def interactive_rug(graphs):\n",
    "    color_options = ['id', 'id2', 'id3', 'degree_centrality', 'closeness_centrality', 'eigenvector_centrality']\n",
    "    color_dropdown = widgets.Dropdown(options=color_options, value='closeness_centrality', description='Color:')\n",
    "    label_toggle = widgets.Checkbox(value=False, description='Show Labels')\n",
    "    \n",
    "    pixel_slider = widgets.IntSlider(\n",
    "        value=6,\n",
    "        min=2,\n",
    "        max=20,\n",
    "        step=1,\n",
    "        description='Pixel Size:',\n",
    "        continuous_update=False\n",
    "    )\n",
    "\n",
    "    ui = widgets.VBox([widgets.HBox([color_dropdown, label_toggle, pixel_slider])])\n",
    "\n",
    "    def update_plot(change=None):\n",
    "        draw_networkrug(\n",
    "            graphs,\n",
    "            color_encoding=color_dropdown.value,\n",
    "            labels=label_toggle.value,\n",
    "            pixel_size=pixel_slider.value\n",
    "        )\n",
    "\n",
    "    # Register observers\n",
    "    color_dropdown.observe(update_plot, names='value')\n",
    "    label_toggle.observe(update_plot, names='value')\n",
    "    pixel_slider.observe(update_plot, names='value')\n",
    "\n",
    "    display(ui)\n",
    "    update_plot()\n",
    "    \n",
    "interactive_rug(merge_graphs)\n"
   ]
  },
  {
   "cell_type": "code",
   "execution_count": 11,
   "metadata": {},
   "outputs": [],
   "source": [
    "root = tk.Tk()\n",
    "\n",
    "label1 = tk.Label(root, text=\"Hallo World!\")\n",
    "label1.pack()\n",
    "\n",
    "root.mainloop()"
   ]
  },
  {
   "cell_type": "code",
   "execution_count": null,
   "metadata": {},
   "outputs": [],
   "source": [
    "#main functionality in network_rugs.py\n",
    "import ba_utils.network_rugs as nrugs\n",
    "\n",
    "nrugs.launch_tkinter_ui(merge_graphs)"
   ]
  }
 ],
 "metadata": {
  "kernelspec": {
   "display_name": "venv",
   "language": "python",
   "name": "python3"
  },
  "language_info": {
   "codemirror_mode": {
    "name": "ipython",
    "version": 3
   },
   "file_extension": ".py",
   "mimetype": "text/x-python",
   "name": "python",
   "nbconvert_exporter": "python",
   "pygments_lexer": "ipython3",
   "version": "3.12.2"
  }
 },
 "nbformat": 4,
 "nbformat_minor": 2
}
